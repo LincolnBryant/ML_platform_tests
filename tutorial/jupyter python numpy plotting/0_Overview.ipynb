{
 "cells": [
  {
   "cell_type": "markdown",
   "metadata": {},
   "source": [
    "# An Introduction to Data Science\n",
    "\n",
    "##### Hands-on Session with Python, JuPyter Notebooks, NumPy, and ROOT\n",
    "\n",
    "Hello! Welcome to the first sort of hands-on tutorial you will see today. The goal for this portion is to give everyone a slow ramp-up and basic foundation for understanding, writing, and executing Python code.\n",
    "\n",
    "The tutorials will be presented in JuPyter notebooks\n",
    "- in-browser editing for code with syntax highlighting\n",
    "- ability to execute code from the browser alongside the results of computations\n",
    "- shareable, reproducable, and modular\n",
    "\n",
    "## Steps of Data Science\n",
    "\n",
    "All sorts of analyses you perform have a few common steps:\n",
    "\n",
    "- obtain data and import the dataset into your code\n",
    "- visualize the uncleaned dataset\n",
    "- clean / filter / sanitize and apply selections on the dataset\n",
    "- apply statistical analysis, machine learning, and other model selections\n",
    "- analyze the results\n",
    "- present the results\n",
    "\n",
    "# Let's Get Started\n",
    "\n",
    "Today, we have a few hands-on exercises we will go through. The first exercise we will go through together as a guided tutorial on using this system (JuPyter). The rest of the tutorials will demonstrate some of the initial concepts of Python and then show how to use certain key features technically as these will show up in later tutorials.\n",
    "\n",
    "- [Introduction to JuPyter](1_Jupyter_Intro.ipynb)\n",
    "- [Hands-on Exercise in Python and Git](2_Hands-on_Learning.ipynb)\n",
    "- [NumPy Basics](3_NumPy_Basics.ipynb)\n",
    "- [Plotting Basics](4_Plotting_Basics.ipynb)"
   ]
  }
 ],
 "metadata": {
  "kernelspec": {
   "display_name": "Python 2",
   "language": "python",
   "name": "python2"
  },
  "language_info": {
   "codemirror_mode": {
    "name": "ipython",
    "version": 2
   },
   "file_extension": ".py",
   "mimetype": "text/x-python",
   "name": "python",
   "nbconvert_exporter": "python",
   "pygments_lexer": "ipython2",
   "version": "2.7.12"
  }
 },
 "nbformat": 4,
 "nbformat_minor": 2
}
