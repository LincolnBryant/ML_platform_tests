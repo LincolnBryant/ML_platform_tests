{
 "cells": [
  {
   "cell_type": "code",
   "execution_count": 1,
   "metadata": {},
   "outputs": [],
   "source": [
    "# import libraries (including our short d3_lib script)\n",
    "from IPython.core.display import display, HTML\n",
    "import d3_lib, random"
   ]
  },
  {
   "cell_type": "code",
   "execution_count": 2,
   "metadata": {},
   "outputs": [],
   "source": [
    "# construct graph as a set of nodes and links between them\n",
    "n_nodes = 30\n",
    "p_edge = 0.05\n",
    "graph = {\"nodes\": [], \"links\": []}\n",
    "for i in range(n_nodes):\n",
    "    graph[\"nodes\"].append( {\"name\": \"i\" + str(i), \"group\": int(random.uniform(1,11))} )\n",
    "for i in range(n_nodes):\n",
    "    for j in range(n_nodes):\n",
    "        if random.uniform(0,1) < p_edge and i != j:\n",
    "            graph[\"links\"].append( {\"source\": i, \"target\": j,\n",
    "                             \"value\": random.uniform(0.5,3)} )"
   ]
  },
  {
   "cell_type": "code",
   "execution_count": 3,
   "metadata": {},
   "outputs": [
    {
     "data": {
      "text/html": [
       "<style>\n",
       "/* http://bl.ocks.org/mbostock/4062045 */\n",
       "\n",
       ".node {\n",
       "  stroke: #fff;\n",
       "  stroke-width: 1.5px;\n",
       "}\n",
       "\n",
       ".link {\n",
       "  stroke: #999;\n",
       "  stroke-opacity: .6;\n",
       "}\n",
       "\n",
       "</style><script src=\"lib/d3/d3.min.js\"></script>\n",
       "    \n",
       "                <div id='maindiv2151068357'></div>\n",
       "                \n",
       "                <script>\n",
       "                    \n",
       "// Based on http://bl.ocks.org/mbostock/4062045\n",
       "\n",
       "var width = 960,\n",
       "    height = 500;\n",
       "\n",
       "var color = d3.scale.category20();\n",
       "\n",
       "var force = d3.layout.force()\n",
       "    .charge(-300)\n",
       "    .linkDistance(50)\n",
       "    .size([width, height]);\n",
       "\n",
       "d3.select(\"#maindiv2151068357\").selectAll(\"svg\").remove();\n",
       "var svg = d3.select(\"#maindiv2151068357\").append(\"svg\")\n",
       "    .attr(\"width\", width)\n",
       "    .attr(\"height\", height);\n",
       "\n",
       "//d3.json(\"miserables.json\", function(error, graph) {\n",
       "//  if (error) throw error;\n",
       "var graph = {'nodes': [{'name': 'i0', 'group': 5}, {'name': 'i1', 'group': 3}, {'name': 'i2', 'group': 2}, {'name': 'i3', 'group': 10}, {'name': 'i4', 'group': 10}, {'name': 'i5', 'group': 3}, {'name': 'i6', 'group': 1}, {'name': 'i7', 'group': 9}, {'name': 'i8', 'group': 7}, {'name': 'i9', 'group': 6}, {'name': 'i10', 'group': 5}, {'name': 'i11', 'group': 3}, {'name': 'i12', 'group': 9}, {'name': 'i13', 'group': 9}, {'name': 'i14', 'group': 9}, {'name': 'i15', 'group': 1}, {'name': 'i16', 'group': 10}, {'name': 'i17', 'group': 4}, {'name': 'i18', 'group': 1}, {'name': 'i19', 'group': 9}, {'name': 'i20', 'group': 1}, {'name': 'i21', 'group': 10}, {'name': 'i22', 'group': 6}, {'name': 'i23', 'group': 6}, {'name': 'i24', 'group': 5}, {'name': 'i25', 'group': 8}, {'name': 'i26', 'group': 7}, {'name': 'i27', 'group': 9}, {'name': 'i28', 'group': 10}, {'name': 'i29', 'group': 4}], 'links': [{'target': 9, 'source': 0, 'value': 2.8166096461371675}, {'target': 17, 'source': 1, 'value': 2.211406478245138}, {'target': 1, 'source': 2, 'value': 1.029402111087553}, {'target': 23, 'source': 4, 'value': 2.3744993663801246}, {'target': 28, 'source': 5, 'value': 2.8925237950918463}, {'target': 3, 'source': 6, 'value': 1.6603840099269895}, {'target': 7, 'source': 6, 'value': 2.933031630290816}, {'target': 18, 'source': 6, 'value': 0.7045386849712636}, {'target': 19, 'source': 6, 'value': 1.5270253657723307}, {'target': 26, 'source': 6, 'value': 2.732345177528092}, {'target': 10, 'source': 7, 'value': 2.7526377877937542}, {'target': 18, 'source': 7, 'value': 1.3976177471782512}, {'target': 1, 'source': 8, 'value': 1.433874552015912}, {'target': 7, 'source': 8, 'value': 1.0746956145319615}, {'target': 21, 'source': 8, 'value': 1.2536788068499678}, {'target': 20, 'source': 10, 'value': 1.8978201670443111}, {'target': 22, 'source': 10, 'value': 1.4069772344494142}, {'target': 22, 'source': 12, 'value': 2.2381664881127024}, {'target': 1, 'source': 13, 'value': 0.9926278602867142}, {'target': 2, 'source': 13, 'value': 1.488980019606058}, {'target': 23, 'source': 13, 'value': 2.698353007285231}, {'target': 8, 'source': 15, 'value': 1.493557650853556}, {'target': 16, 'source': 15, 'value': 2.7894444732519887}, {'target': 19, 'source': 15, 'value': 2.0618709015685406}, {'target': 6, 'source': 16, 'value': 1.7175032023116943}, {'target': 11, 'source': 16, 'value': 1.5363723632376463}, {'target': 24, 'source': 16, 'value': 2.0825562026343976}, {'target': 20, 'source': 17, 'value': 2.5905189270212574}, {'target': 19, 'source': 18, 'value': 1.4993917312414524}, {'target': 20, 'source': 18, 'value': 2.7505490761630265}, {'target': 5, 'source': 19, 'value': 0.9404351896086187}, {'target': 27, 'source': 19, 'value': 1.383466517249894}, {'target': 21, 'source': 20, 'value': 1.9438011547033915}, {'target': 5, 'source': 21, 'value': 2.227963916055554}, {'target': 8, 'source': 21, 'value': 2.9743928871525362}, {'target': 26, 'source': 21, 'value': 2.0978430154836003}, {'target': 2, 'source': 22, 'value': 2.9967523279419868}, {'target': 29, 'source': 22, 'value': 1.216983853144322}, {'target': 4, 'source': 23, 'value': 2.3675322418248372}, {'target': 22, 'source': 23, 'value': 2.1911726886948104}, {'target': 0, 'source': 24, 'value': 0.9974000654755079}, {'target': 21, 'source': 24, 'value': 2.783725985450273}, {'target': 18, 'source': 26, 'value': 1.1597744308601228}, {'target': 21, 'source': 26, 'value': 1.1454942091446134}, {'target': 22, 'source': 26, 'value': 2.4818331407962266}, {'target': 5, 'source': 28, 'value': 1.370769638768632}, {'target': 9, 'source': 28, 'value': 2.637386063656298}, {'target': 22, 'source': 28, 'value': 0.9296831916438317}, {'target': 12, 'source': 29, 'value': 0.5084773611185016}, {'target': 26, 'source': 29, 'value': 2.347000086241514}]} ;\n",
       "\n",
       "  force\n",
       "      .nodes(graph.nodes)\n",
       "      .links(graph.links)\n",
       "      .start();\n",
       "\n",
       "  var link = svg.selectAll(\".link\")\n",
       "      .data(graph.links)\n",
       "    .enter().append(\"line\")\n",
       "      .attr(\"class\", \"link\")\n",
       "      .style(\"stroke-width\", function(d) { return Math.sqrt(d.value); });\n",
       "\n",
       "  var node = svg.selectAll(\".node\")\n",
       "      .data(graph.nodes)\n",
       "    .enter().append(\"circle\")\n",
       "      .attr(\"class\", \"node\")\n",
       "      .attr(\"r\", 8)\n",
       "      .style(\"fill\", function(d) { return color(d.group); })\n",
       "      .call(force.drag);\n",
       "\n",
       "  node.append(\"title\")\n",
       "      .text(function(d) { return d.name; });\n",
       "\n",
       "  force.on(\"tick\", function() {\n",
       "    link.attr(\"x1\", function(d) { return d.source.x; })\n",
       "        .attr(\"y1\", function(d) { return d.source.y; })\n",
       "        .attr(\"x2\", function(d) { return d.target.x; })\n",
       "        .attr(\"y2\", function(d) { return d.target.y; });\n",
       "\n",
       "    node.attr(\"cx\", function(d) { return d.x; })\n",
       "        .attr(\"cy\", function(d) { return d.y; });\n",
       "  });\n",
       "  \n",
       "//});\n",
       "\n",
       "\n",
       "                </script>\n",
       "\n",
       "                "
      ],
      "text/plain": [
       "<IPython.core.display.HTML object>"
      ]
     },
     "metadata": {},
     "output_type": "display_data"
    }
   ],
   "source": [
    "# visualize as force-directed graph in D3\n",
    "display(HTML(d3_lib.set_styles(['force_directed_graph']) + \\\n",
    "      '<script src=\"lib/d3/d3.min.js\"></script>' + \\\n",
    "      d3_lib.draw_graph('force_directed_graph', {'data': graph})))"
   ]
  },
  {
   "cell_type": "code",
   "execution_count": 4,
   "metadata": {},
   "outputs": [
    {
     "data": {
      "text/html": [
       "\n",
       "    \n",
       "                <div id='maindiv6223915271'></div>\n",
       "                \n",
       "                <script>\n",
       "                    \n",
       "// Based on http://bl.ocks.org/mbostock/4062045\n",
       "\n",
       "var width = 960,\n",
       "    height = 500;\n",
       "\n",
       "var color = d3.scale.category20();\n",
       "\n",
       "var force = d3.layout.force()\n",
       "    .charge(-300)\n",
       "    .linkDistance(50)\n",
       "    .size([width, height]);\n",
       "\n",
       "d3.select(\"#maindiv6223915271\").selectAll(\"svg\").remove();\n",
       "var svg = d3.select(\"#maindiv6223915271\").append(\"svg\")\n",
       "    .attr(\"width\", width)\n",
       "    .attr(\"height\", height);\n",
       "\n",
       "//d3.json(\"miserables.json\", function(error, graph) {\n",
       "//  if (error) throw error;\n",
       "var graph = {'nodes': [{'name': 'i0', 'group': 5}, {'name': 'i1', 'group': 3}, {'name': 'i2', 'group': 2}, {'name': 'i3', 'group': 10}, {'name': 'i4', 'group': 10}, {'name': 'i5', 'group': 3}, {'name': 'i6', 'group': 1}, {'name': 'i7', 'group': 9}, {'name': 'i8', 'group': 7}, {'name': 'i9', 'group': 6}, {'name': 'i10', 'group': 5}, {'name': 'i11', 'group': 3}, {'name': 'i12', 'group': 9}, {'name': 'i13', 'group': 9}, {'name': 'i14', 'group': 9}, {'name': 'i15', 'group': 1}, {'name': 'i16', 'group': 10}, {'name': 'i17', 'group': 4}, {'name': 'i18', 'group': 1}, {'name': 'i19', 'group': 9}, {'name': 'i20', 'group': 1}, {'name': 'i21', 'group': 10}, {'name': 'i22', 'group': 6}, {'name': 'i23', 'group': 6}, {'name': 'i24', 'group': 5}, {'name': 'i25', 'group': 8}, {'name': 'i26', 'group': 7}, {'name': 'i27', 'group': 9}, {'name': 'i28', 'group': 10}, {'name': 'i29', 'group': 4}], 'links': [{'target': 9, 'source': 0, 'value': 2.8166096461371675}, {'target': 17, 'source': 1, 'value': 2.211406478245138}, {'target': 1, 'source': 2, 'value': 1.029402111087553}, {'target': 23, 'source': 4, 'value': 2.3744993663801246}, {'target': 28, 'source': 5, 'value': 2.8925237950918463}, {'target': 3, 'source': 6, 'value': 1.6603840099269895}, {'target': 7, 'source': 6, 'value': 2.933031630290816}, {'target': 18, 'source': 6, 'value': 0.7045386849712636}, {'target': 19, 'source': 6, 'value': 1.5270253657723307}, {'target': 26, 'source': 6, 'value': 2.732345177528092}, {'target': 10, 'source': 7, 'value': 2.7526377877937542}, {'target': 18, 'source': 7, 'value': 1.3976177471782512}, {'target': 1, 'source': 8, 'value': 1.433874552015912}, {'target': 7, 'source': 8, 'value': 1.0746956145319615}, {'target': 21, 'source': 8, 'value': 1.2536788068499678}, {'target': 20, 'source': 10, 'value': 1.8978201670443111}, {'target': 22, 'source': 10, 'value': 1.4069772344494142}, {'target': 22, 'source': 12, 'value': 2.2381664881127024}, {'target': 1, 'source': 13, 'value': 0.9926278602867142}, {'target': 2, 'source': 13, 'value': 1.488980019606058}, {'target': 23, 'source': 13, 'value': 2.698353007285231}, {'target': 8, 'source': 15, 'value': 1.493557650853556}, {'target': 16, 'source': 15, 'value': 2.7894444732519887}, {'target': 19, 'source': 15, 'value': 2.0618709015685406}, {'target': 6, 'source': 16, 'value': 1.7175032023116943}, {'target': 11, 'source': 16, 'value': 1.5363723632376463}, {'target': 24, 'source': 16, 'value': 2.0825562026343976}, {'target': 20, 'source': 17, 'value': 2.5905189270212574}, {'target': 19, 'source': 18, 'value': 1.4993917312414524}, {'target': 20, 'source': 18, 'value': 2.7505490761630265}, {'target': 5, 'source': 19, 'value': 0.9404351896086187}, {'target': 27, 'source': 19, 'value': 1.383466517249894}, {'target': 21, 'source': 20, 'value': 1.9438011547033915}, {'target': 5, 'source': 21, 'value': 2.227963916055554}, {'target': 8, 'source': 21, 'value': 2.9743928871525362}, {'target': 26, 'source': 21, 'value': 2.0978430154836003}, {'target': 2, 'source': 22, 'value': 2.9967523279419868}, {'target': 29, 'source': 22, 'value': 1.216983853144322}, {'target': 4, 'source': 23, 'value': 2.3675322418248372}, {'target': 22, 'source': 23, 'value': 2.1911726886948104}, {'target': 0, 'source': 24, 'value': 0.9974000654755079}, {'target': 21, 'source': 24, 'value': 2.783725985450273}, {'target': 18, 'source': 26, 'value': 1.1597744308601228}, {'target': 21, 'source': 26, 'value': 1.1454942091446134}, {'target': 22, 'source': 26, 'value': 2.4818331407962266}, {'target': 5, 'source': 28, 'value': 1.370769638768632}, {'target': 9, 'source': 28, 'value': 2.637386063656298}, {'target': 22, 'source': 28, 'value': 0.9296831916438317}, {'target': 12, 'source': 29, 'value': 0.5084773611185016}, {'target': 26, 'source': 29, 'value': 2.347000086241514}]} ;\n",
       "\n",
       "  force\n",
       "      .nodes(graph.nodes)\n",
       "      .links(graph.links)\n",
       "      .start();\n",
       "\n",
       "  var link = svg.selectAll(\".link\")\n",
       "      .data(graph.links)\n",
       "    .enter().append(\"line\")\n",
       "      .attr(\"class\", \"link\")\n",
       "      .style(\"stroke-width\", function(d) { return Math.sqrt(d.value); });\n",
       "\n",
       "  var node = svg.selectAll(\".node\")\n",
       "      .data(graph.nodes)\n",
       "    .enter().append(\"circle\")\n",
       "      .attr(\"class\", \"node\")\n",
       "      .attr(\"r\", 8)\n",
       "      .style(\"fill\", function(d) { return color(d.group); })\n",
       "      .call(force.drag);\n",
       "\n",
       "  node.append(\"title\")\n",
       "      .text(function(d) { return d.name; });\n",
       "\n",
       "  force.on(\"tick\", function() {\n",
       "    link.attr(\"x1\", function(d) { return d.source.x; })\n",
       "        .attr(\"y1\", function(d) { return d.source.y; })\n",
       "        .attr(\"x2\", function(d) { return d.target.x; })\n",
       "        .attr(\"y2\", function(d) { return d.target.y; });\n",
       "\n",
       "    node.attr(\"cx\", function(d) { return d.x; })\n",
       "        .attr(\"cy\", function(d) { return d.y; });\n",
       "  });\n",
       "  \n",
       "//});\n",
       "\n",
       "\n",
       "                </script>\n",
       "\n",
       "                "
      ],
      "text/plain": [
       "<IPython.core.display.HTML object>"
      ]
     },
     "metadata": {},
     "output_type": "display_data"
    }
   ],
   "source": [
    "display(HTML(d3_lib.draw_graph('force_directed_graph', {'data': graph})))"
   ]
  }
 ],
 "metadata": {
  "kernelspec": {
   "display_name": "Python 3",
   "language": "python",
   "name": "python3"
  },
  "language_info": {
   "codemirror_mode": {
    "name": "ipython",
    "version": 3
   },
   "file_extension": ".py",
   "mimetype": "text/x-python",
   "name": "python",
   "nbconvert_exporter": "python",
   "pygments_lexer": "ipython3",
   "version": "3.5.2"
  }
 },
 "nbformat": 4,
 "nbformat_minor": 2
}
