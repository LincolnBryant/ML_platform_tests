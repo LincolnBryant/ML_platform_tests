{
 "cells": [
  {
   "cell_type": "code",
   "execution_count": 1,
   "metadata": {},
   "outputs": [
    {
     "name": "stdout",
     "output_type": "stream",
     "text": [
      "--2017-10-31 04:09:38--  https://github.com/mazurov/webfest2013/raw/master/notebooks/TESHEP_Pedagogical_Data.root\r\n",
      "Resolving github.com (github.com)... 192.30.255.113, 192.30.255.112\r\n",
      "Connecting to github.com (github.com)|192.30.255.113|:443... connected.\r\n",
      "HTTP request sent, awaiting response... 302 Found\r\n",
      "Location: https://raw.githubusercontent.com/mazurov/webfest2013/master/notebooks/TESHEP_Pedagogical_Data.root [following]\r\n",
      "--2017-10-31 04:09:38--  https://raw.githubusercontent.com/mazurov/webfest2013/master/notebooks/TESHEP_Pedagogical_Data.root\r\n",
      "Resolving raw.githubusercontent.com (raw.githubusercontent.com)... 151.101.0.133, 151.101.64.133, 151.101.128.133, ...\r\n",
      "Connecting to raw.githubusercontent.com (raw.githubusercontent.com)|151.101.0.133|:443... connected.\r\n",
      "HTTP request sent, awaiting response... 200 OK\r\n",
      "Length: 50928169 (49M) [application/octet-stream]\r\n",
      "Saving to: 'TESHEP_Pedagogical_Data.root'\r\n",
      "\r\n",
      "\r",
      "          TESHEP_Pe   0%[                    ]       0  --.-KB/s               \r",
      "         TESHEP_Ped   8%[>                   ]   4.23M  21.0MB/s               \r",
      "        TESHEP_Peda  25%[====>               ]  12.40M  30.9MB/s               \r",
      "       TESHEP_Pedag  49%[========>           ]  24.19M  40.2MB/s               \r",
      "      TESHEP_Pedago  83%[===============>    ]  40.35M  50.3MB/s               \r",
      "TESHEP_Pedagogical_ 100%[===================>]  48.57M  54.8MB/s    in 0.9s    \r\n",
      "\r\n",
      "2017-10-31 04:09:40 (54.8 MB/s) - 'TESHEP_Pedagogical_Data.root' saved [50928169/50928169]\r\n",
      "\r\n"
     ]
    }
   ],
   "source": []
  },
  {
   "cell_type": "code",
   "execution_count": 1,
   "metadata": {},
   "outputs": [
    {
     "name": "stdout",
     "output_type": "stream",
     "text": [
      "Welcome to JupyROOT 6.10/02\n"
     ]
    }
   ],
   "source": [
    "from ROOT import TFile, RooRealVar, RooDataSet, RooArgSet, RooGaussian, RooChebychev, RooArgList, RooAddPdf, RooFit"
   ]
  },
  {
   "cell_type": "code",
   "execution_count": 2,
   "metadata": {},
   "outputs": [],
   "source": [
    "inputfile = TFile(\"TESHEP_Pedagogical_Data.root\")"
   ]
  },
  {
   "cell_type": "code",
   "execution_count": 3,
   "metadata": {},
   "outputs": [],
   "source": [
    "inputchain = inputfile.Get(\"DecayTree\")"
   ]
  },
  {
   "cell_type": "code",
   "execution_count": 4,
   "metadata": {},
   "outputs": [
    {
     "data": {
      "text/plain": [
       "<ROOT.TTree object (\"DecayTree\") at 0x5ef54a0>"
      ]
     },
     "execution_count": 4,
     "metadata": {},
     "output_type": "execute_result"
    }
   ],
   "source": [
    "inputchain"
   ]
  },
  {
   "cell_type": "code",
   "execution_count": 5,
   "metadata": {},
   "outputs": [],
   "source": [
    "nameoffitvar = \"D0_MM\""
   ]
  },
  {
   "cell_type": "code",
   "execution_count": 6,
   "metadata": {},
   "outputs": [],
   "source": [
    "rangeoffit = (1816., 1914)"
   ]
  },
  {
   "cell_type": "code",
   "execution_count": 7,
   "metadata": {},
   "outputs": [],
   "source": [
    "backgroundrange = (1890., 1914.)"
   ]
  },
  {
   "cell_type": "code",
   "execution_count": 8,
   "metadata": {},
   "outputs": [],
   "source": [
    "nsigmasigbox = 2."
   ]
  },
  {
   "cell_type": "code",
   "execution_count": 9,
   "metadata": {},
   "outputs": [],
   "source": [
    "massvar = RooRealVar(\"D0_MM\", \"D0_MM\", rangeoffit[0], rangeoffit[1])"
   ]
  },
  {
   "cell_type": "code",
   "execution_count": 10,
   "metadata": {},
   "outputs": [],
   "source": [
    "mydataset = RooDataSet(\"DecayTreeDataSet\",\"DecayTreeDataSet\",RooArgSet(massvar))"
   ]
  },
  {
   "cell_type": "code",
   "execution_count": 11,
   "metadata": {},
   "outputs": [
    {
     "data": {
      "text/plain": [
       "<ROOT.RooDataSet object (\"DecayTreeDataSet\") at 0x62bcc24>"
      ]
     },
     "execution_count": 11,
     "metadata": {},
     "output_type": "execute_result"
    }
   ],
   "source": [
    "mydataset"
   ]
  },
  {
   "cell_type": "code",
   "execution_count": 12,
   "metadata": {},
   "outputs": [],
   "source": [
    "for entry in range(0,inputchain.GetEntries()) :\n",
    "  inputchain.GetEntry(entry)\n",
    "  if inputchain.__getattr__(nameoffitvar) > rangeoffit[1] or \\\n",
    "     inputchain.__getattr__(nameoffitvar) < rangeoffit[0] :\n",
    "    continue\n",
    "  massvar.setVal(inputchain.__getattr__(nameoffitvar))\n",
    "  mydataset.add(RooArgSet(massvar))"
   ]
  },
  {
   "cell_type": "code",
   "execution_count": 13,
   "metadata": {},
   "outputs": [],
   "source": [
    "gausMean_B \t= RooRealVar(\"gausMean_B\",\"gausMean_B\",(rangeoffit[0]+rangeoffit[1])/2.,rangeoffit[0],rangeoffit[1])\n",
    "gausWidth_B \t= RooRealVar(\"gausWidth_B\",\"gausWidth_B\",15.,1.,50.)\n",
    "chebOne_B \t= RooRealVar(\"chebOne_B\",\"chebOne_B\",0.1,-5.,5.)\n",
    "gaussian_B \t= RooGaussian(\"gaussian_B\",\"gaussian_B\",massvar,gausMean_B,gausWidth_B)\n",
    "cheb_B     \t= RooChebychev(\"cheb_B\",\"cheb_B\",massvar,RooArgList(chebOne_B))"
   ]
  },
  {
   "cell_type": "code",
   "execution_count": null,
   "metadata": {},
   "outputs": [],
   "source": [
    "N_Sig_B = RooRealVar(\"N_Sig_B\",\"N_Sig_B\",1000,0,25000)\n",
    "N_Bkg_B = RooRealVar(\"N_Bkg_B\",\"N_Bkg_B\",1000,0,50000)"
   ]
  },
  {
   "cell_type": "code",
   "execution_count": null,
   "metadata": {},
   "outputs": [],
   "source": [
    "totalpdf_B = RooAddPdf(\"totalpdf_B\",\"totalpdf_B\", RooArgList(gaussian_B,cheb_B), RooArgList(N_Sig_B,N_Bkg_B))\n",
    "totalpdf_B.fitTo(mydataset, RooFit.Extended())"
   ]
  },
  {
   "cell_type": "code",
   "execution_count": null,
   "metadata": {},
   "outputs": [],
   "source": [
    "canv_Dmass = rootnotes.default_canvas()\n",
    "frame_Dmass = massvar.frame()\n",
    "mydataset.plotOn(frame_Dmass,RooFit.Binning(100))\n",
    "totalpdf_B.plotOn(frame_Dmass)\n",
    "frame_Dmass.Draw()"
   ]
  },
  {
   "cell_type": "code",
   "execution_count": null,
   "metadata": {},
   "outputs": [],
   "source": [
    "\n",
    "canv_Dmass"
   ]
  },
  {
   "cell_type": "code",
   "execution_count": null,
   "metadata": {},
   "outputs": [],
   "source": []
  }
 ],
 "metadata": {
  "kernelspec": {
   "display_name": "Python 2",
   "language": "python",
   "name": "python2"
  },
  "language_info": {
   "codemirror_mode": {
    "name": "ipython",
    "version": 2
   },
   "file_extension": ".py",
   "mimetype": "text/x-python",
   "name": "python",
   "nbconvert_exporter": "python",
   "pygments_lexer": "ipython2",
   "version": "2.7.12"
  }
 },
 "nbformat": 4,
 "nbformat_minor": 2
}
