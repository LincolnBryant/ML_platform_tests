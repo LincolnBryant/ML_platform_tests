{
 "cells": [
  {
   "cell_type": "markdown",
   "metadata": {},
   "source": [
    "# Handling SC2017 PRP productions\n",
    "\n",
    "This module has functions to:\n",
    "- create all the workload\n",
    "- move from state to state [created,training,trained,generating,generated,transporting,done]\n"
   ]
  },
  {
   "cell_type": "code",
   "execution_count": 3,
   "metadata": {},
   "outputs": [],
   "source": [
    "from time import time\n",
    "from elasticsearch import Elasticsearch, exceptions as es_exceptions\n",
    "es = Elasticsearch(['atlas-kibana.mwt2.org:9200'],timeout=60)"
   ]
  },
  {
   "cell_type": "markdown",
   "metadata": {},
   "source": [
    " [--nb-epochs NB_EPOCHS] \n",
    " [--batch-size BATCH_SIZE]\n",
    " [--latent-size LATENT_SIZE] \n",
    " [--disc-lr DISC_LR]\n",
    " [--gen-lr GEN_LR] \n",
    " [--adam-beta ADAM_BETA] \n",
    " [--prog-bar]\n",
    " [--no-attn] \n",
    " [--debug] \n",
    " [--d-pfx D_PFX] \n",
    " [--g-pfx G_PFX]\n",
    " dataset"
   ]
  },
  {
   "cell_type": "code",
   "execution_count": 6,
   "metadata": {},
   "outputs": [
    {
     "name": "stdout",
     "output_type": "stream",
     "text": [
      "{'created': 1509815918.299336, 'generating_options': ['--input_folder=XXX', '--output_folder=YYY', '--sets=ZZZ', '--showers=100000'], 'training_options': ['--nb-epochs=100', '--disc-lr=0.0001', '--gen-lr=0.00001', ''], 'status': 'created'}\n",
      "{'created': 1509815922.9227629, 'generating_options': ['--input_folder=XXX', '--output_folder=YYY', '--sets=ZZZ', '--showers=100000'], 'training_options': ['--nb-epochs=100', '--disc-lr=0.0001', '--gen-lr=0.00001', '--no-attn'], 'status': 'created'}\n",
      "{'created': 1509815922.9888306, 'generating_options': ['--input_folder=XXX', '--output_folder=YYY', '--sets=ZZZ', '--showers=100000'], 'training_options': ['--nb-epochs=100', '--disc-lr=0.0001', '--gen-lr=0.00002', ''], 'status': 'created'}\n",
      "{'created': 1509815923.054772, 'generating_options': ['--input_folder=XXX', '--output_folder=YYY', '--sets=ZZZ', '--showers=100000'], 'training_options': ['--nb-epochs=100', '--disc-lr=0.0001', '--gen-lr=0.00002', '--no-attn'], 'status': 'created'}\n",
      "{'created': 1509815923.1203802, 'generating_options': ['--input_folder=XXX', '--output_folder=YYY', '--sets=ZZZ', '--showers=100000'], 'training_options': ['--nb-epochs=100', '--disc-lr=0.0001', '--gen-lr=0.00005', ''], 'status': 'created'}\n",
      "{'created': 1509815923.1954846, 'generating_options': ['--input_folder=XXX', '--output_folder=YYY', '--sets=ZZZ', '--showers=100000'], 'training_options': ['--nb-epochs=100', '--disc-lr=0.0001', '--gen-lr=0.00005', '--no-attn'], 'status': 'created'}\n",
      "{'created': 1509815923.2591207, 'generating_options': ['--input_folder=XXX', '--output_folder=YYY', '--sets=ZZZ', '--showers=100000'], 'training_options': ['--nb-epochs=100', '--disc-lr=0.0002', '--gen-lr=0.00001', ''], 'status': 'created'}\n",
      "{'created': 1509815923.3244503, 'generating_options': ['--input_folder=XXX', '--output_folder=YYY', '--sets=ZZZ', '--showers=100000'], 'training_options': ['--nb-epochs=100', '--disc-lr=0.0002', '--gen-lr=0.00001', '--no-attn'], 'status': 'created'}\n",
      "{'created': 1509815923.3876798, 'generating_options': ['--input_folder=XXX', '--output_folder=YYY', '--sets=ZZZ', '--showers=100000'], 'training_options': ['--nb-epochs=100', '--disc-lr=0.0002', '--gen-lr=0.00002', ''], 'status': 'created'}\n",
      "{'created': 1509815923.4509785, 'generating_options': ['--input_folder=XXX', '--output_folder=YYY', '--sets=ZZZ', '--showers=100000'], 'training_options': ['--nb-epochs=100', '--disc-lr=0.0002', '--gen-lr=0.00002', '--no-attn'], 'status': 'created'}\n",
      "{'created': 1509815923.514135, 'generating_options': ['--input_folder=XXX', '--output_folder=YYY', '--sets=ZZZ', '--showers=100000'], 'training_options': ['--nb-epochs=100', '--disc-lr=0.0002', '--gen-lr=0.00005', ''], 'status': 'created'}\n",
      "{'created': 1509815923.577151, 'generating_options': ['--input_folder=XXX', '--output_folder=YYY', '--sets=ZZZ', '--showers=100000'], 'training_options': ['--nb-epochs=100', '--disc-lr=0.0002', '--gen-lr=0.00005', '--no-attn'], 'status': 'created'}\n",
      "{'created': 1509815923.6407053, 'generating_options': ['--input_folder=XXX', '--output_folder=YYY', '--sets=ZZZ', '--showers=100000'], 'training_options': ['--nb-epochs=100', '--disc-lr=0.0005', '--gen-lr=0.00001', ''], 'status': 'created'}\n",
      "{'created': 1509815923.7109215, 'generating_options': ['--input_folder=XXX', '--output_folder=YYY', '--sets=ZZZ', '--showers=100000'], 'training_options': ['--nb-epochs=100', '--disc-lr=0.0005', '--gen-lr=0.00001', '--no-attn'], 'status': 'created'}\n",
      "{'created': 1509815923.785328, 'generating_options': ['--input_folder=XXX', '--output_folder=YYY', '--sets=ZZZ', '--showers=100000'], 'training_options': ['--nb-epochs=100', '--disc-lr=0.0005', '--gen-lr=0.00002', ''], 'status': 'created'}\n",
      "{'created': 1509815923.8484197, 'generating_options': ['--input_folder=XXX', '--output_folder=YYY', '--sets=ZZZ', '--showers=100000'], 'training_options': ['--nb-epochs=100', '--disc-lr=0.0005', '--gen-lr=0.00002', '--no-attn'], 'status': 'created'}\n",
      "{'created': 1509815923.9124331, 'generating_options': ['--input_folder=XXX', '--output_folder=YYY', '--sets=ZZZ', '--showers=100000'], 'training_options': ['--nb-epochs=100', '--disc-lr=0.0005', '--gen-lr=0.00005', ''], 'status': 'created'}\n",
      "{'created': 1509815923.9760365, 'generating_options': ['--input_folder=XXX', '--output_folder=YYY', '--sets=ZZZ', '--showers=100000'], 'training_options': ['--nb-epochs=100', '--disc-lr=0.0005', '--gen-lr=0.00005', '--no-attn'], 'status': 'created'}\n"
     ]
    }
   ],
   "source": [
    "def create_workload():\n",
    "    id=0\n",
    "    l1 = ['--disc-lr=0.0001','--disc-lr=0.0002','--disc-lr=0.0005']\n",
    "    l2  = ['--gen-lr=0.00001','--gen-lr=0.00002','--gen-lr=0.00005']\n",
    "    l3    = ['', '--no-attn']\n",
    "    for a in l1:\n",
    "        for b in l2:\n",
    "            for c in l3:\n",
    "                doc={}\n",
    "                doc['created']=time()\n",
    "                doc['status']='created'\n",
    "                doc['training_options']=['--nb-epochs=100', a, b, c]\n",
    "                doc['generating_options']=['--input_folder=XXX', '--output_folder=YYY', '--sets=ZZZ', '--showers=100000']\n",
    "                id+=1\n",
    "                print(doc)\n",
    "                es.create(index='sc2017', doc_type='doc', id=id, body=doc)\n",
    "create_workload()"
   ]
  },
  {
   "cell_type": "code",
   "execution_count": null,
   "metadata": {},
   "outputs": [],
   "source": []
  }
 ],
 "metadata": {
  "kernelspec": {
   "display_name": "Python 3",
   "language": "python",
   "name": "python3"
  },
  "language_info": {
   "codemirror_mode": {
    "name": "ipython",
    "version": 3
   },
   "file_extension": ".py",
   "mimetype": "text/x-python",
   "name": "python",
   "nbconvert_exporter": "python",
   "pygments_lexer": "ipython3",
   "version": "3.5.2"
  }
 },
 "nbformat": 4,
 "nbformat_minor": 2
}
