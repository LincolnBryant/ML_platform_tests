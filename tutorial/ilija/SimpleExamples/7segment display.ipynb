{
 "cells": [
  {
   "cell_type": "markdown",
   "metadata": {},
   "source": [
    "# Recognizing one 7 segment display digit\n",
    "### input are values of 7 segments of the digital display. Output is a binary representation of the number shown.\n",
    "![7 segment display to binary](7 to BCD.png \"task at hand\")"
   ]
  },
  {
   "cell_type": "code",
   "execution_count": 1,
   "metadata": {
    "collapsed": false
   },
   "outputs": [
    {
     "name": "stderr",
     "output_type": "stream",
     "text": [
      "Using TensorFlow backend.\n"
     ]
    }
   ],
   "source": [
    "%matplotlib inline\n",
    "import matplotlib.pyplot as plt\n",
    "import numpy as np\n",
    "import pandas as pd\n",
    "\n",
    "from keras.models import Sequential\n",
    "from keras.layers import Dense, Activation, Lambda\n",
    "from keras import optimizers\n",
    "import keras.callbacks as cb\n",
    "from keras.layers.normalization import BatchNormalization\n",
    "from IPython.display import SVG"
   ]
  },
  {
   "cell_type": "markdown",
   "metadata": {},
   "source": [
    "**input and output data**"
   ]
  },
  {
   "cell_type": "code",
   "execution_count": 2,
   "metadata": {
    "collapsed": false
   },
   "outputs": [
    {
     "name": "stdout",
     "output_type": "stream",
     "text": [
      "(16, 7) (16, 4)\n"
     ]
    }
   ],
   "source": [
    "zer = [1,1,1,1,1,1,0]\n",
    "one = [0,1,1,0,0,0,0]\n",
    "two = [1,1,0,1,1,0,1]\n",
    "thr = [1,1,1,1,0,0,1]\n",
    "fou = [0,1,1,0,0,1,1]\n",
    "fiv = [1,0,1,1,0,1,1]\n",
    "six = [1,0,1,1,1,1,1]\n",
    "sev = [1,1,1,0,0,0,0]\n",
    "eig = [1,1,1,1,1,1,1]\n",
    "nin = [1,1,1,1,0,1,1]\n",
    "eij = [1,1,1,0,1,1,1] #A\n",
    "bee = [0,0,1,1,1,1,1] #b\n",
    "see = [1,0,0,1,1,1,0] #C\n",
    "dee = [0,1,1,1,1,0,1] #d\n",
    "eee = [1,0,0,1,1,1,1] #E\n",
    "eff = [1,0,0,0,1,1,1] #F\n",
    "inp=[zer, one, two, thr, fou, fiv, six, sev, eig, nin, eij, bee, see, dee, eee, eff]\n",
    "out=[[0,0,0,0],[0,0,0,1],[0,0,1,0],[0,0,1,1],[0,1,0,0],[0,1,0,1],[0,1,1,0],[0,1,1,1],[1,0,0,0],[1,0,0,1],[1,0,1,0],[1,0,1,1],[1,1,0,0],[1,1,0,1],[1,1,1,0],[1,1,1,1]]\n",
    "\n",
    "X_df=pd.DataFrame(inp,columns=['l1','l2','l3','l4','l5','l6','l7'])\n",
    "X_df\n",
    "Y_df=pd.DataFrame(out,columns=['b0','b1','b2','b3'])\n",
    "Y_df\n",
    "print(X_df.shape, Y_df.shape)\n",
    "X=X_df.values\n",
    "Y=Y_df.values"
   ]
  },
  {
   "cell_type": "markdown",
   "metadata": {},
   "source": [
    "**early stop when binary accuracy gets to 100%**"
   ]
  },
  {
   "cell_type": "code",
   "execution_count": 34,
   "metadata": {},
   "outputs": [],
   "source": [
    "class EarlyStop(cb.Callback):\n",
    "    def on_epoch_end(self, epoch, logs={}):\n",
    "        # print(logs)\n",
    "        \n",
    "        if logs['binary_accuracy']>0.99:\n",
    "            print(\"binary accuracy loss made it early stop at epoch: \",  epoch)\n",
    "            self.model.stop_training = True\n",
    "\n",
    "callbacks = [\n",
    "    EarlyStop()\n",
    "]\n",
    "\n"
   ]
  },
  {
   "cell_type": "markdown",
   "metadata": {},
   "source": [
    "**actual NN model**"
   ]
  },
  {
   "cell_type": "code",
   "execution_count": 35,
   "metadata": {
    "collapsed": false
   },
   "outputs": [
    {
     "name": "stdout",
     "output_type": "stream",
     "text": [
      "_________________________________________________________________\n",
      "Layer (type)                 Output Shape              Param #   \n",
      "=================================================================\n",
      "dense_15 (Dense)             (None, 7)                 56        \n",
      "_________________________________________________________________\n",
      "dense_16 (Dense)             (None, 4)                 32        \n",
      "=================================================================\n",
      "Total params: 88\n",
      "Trainable params: 88\n",
      "Non-trainable params: 0\n",
      "_________________________________________________________________\n"
     ]
    }
   ],
   "source": [
    "model = Sequential()\n",
    "L1=Dense( units=7, input_shape=(7,), activation='relu')\n",
    "model.add(L1)\n",
    "L2=Dense(units=4, activation='sigmoid') \n",
    "model.add(L2)\n",
    "model.compile(loss=\"binary_crossentropy\",optimizer=optimizers.Adam(lr=0.05), metrics=['accuracy','binary_accuracy','mae'] )\n",
    "model.summary()"
   ]
  },
  {
   "cell_type": "markdown",
   "metadata": {},
   "source": [
    "** train. it will run at most 10000 epochs **"
   ]
  },
  {
   "cell_type": "code",
   "execution_count": 36,
   "metadata": {
    "collapsed": false
   },
   "outputs": [
    {
     "name": "stdout",
     "output_type": "stream",
     "text": [
      "binary accuracy loss made it early stop at epoch:  379\n"
     ]
    }
   ],
   "source": [
    "epochs=10000\n",
    "hist = model.fit(X, Y, epochs=epochs,  verbose=0, shuffle=True, callbacks=callbacks)#,batch_size=8)"
   ]
  },
  {
   "cell_type": "markdown",
   "metadata": {},
   "source": [
    "** check how training went **"
   ]
  },
  {
   "cell_type": "code",
   "execution_count": 37,
   "metadata": {},
   "outputs": [
    {
     "data": {
      "image/png": "[encoded data removed]",
      "text/plain": [
       "<matplotlib.figure.Figure at 0x7fc5100e7320>"
      ]
     },
     "metadata": {},
     "output_type": "display_data"
    }
   ],
   "source": [
    "epochs_done=len(hist.history['acc'])\n",
    "x = np.linspace(0,epochs_done-1,epochs_done)\n",
    "plt.plot(x, hist.history['loss'], '--', linewidth=2, label='loss')\n",
    "plt.plot(x, hist.history['acc'], '-', linewidth=2, label='acc')\n",
    "# plt.plot(x, hist.history['mean_absolute_error'], '-', linewidth=2, label='mae')\n",
    "plt.plot(x, hist.history['binary_accuracy'], '-', linewidth=2, label='binary_accuracy')\n",
    "plt.legend()\n",
    "plt.show()"
   ]
  },
  {
   "cell_type": "markdown",
   "metadata": {},
   "source": [
    "** compare to truth. All lines should end with Yay! **"
   ]
  },
  {
   "cell_type": "code",
   "execution_count": 38,
   "metadata": {},
   "outputs": [
    {
     "name": "stdout",
     "output_type": "stream",
     "text": [
      "['0.48', '0.00', '0.00', '0.00'] [0, 0, 0, 0] [0, 0, 0, 0] Yay!\n",
      "['0.04', '0.02', '0.00', '1.00'] [0, 0, 0, 1] [0, 0, 0, 1] Yay!\n",
      "['0.00', '0.00', '1.00', '0.00'] [0, 0, 1, 0] [0, 0, 1, 0] Yay!\n",
      "['0.00', '0.01', '1.00', '1.00'] [0, 0, 1, 1] [0, 0, 1, 1] Yay!\n",
      "['0.00', '1.00', '0.00', '0.00'] [0, 1, 0, 0] [0, 1, 0, 0] Yay!\n",
      "['0.00', '1.00', '0.01', '1.00'] [0, 1, 0, 1] [0, 1, 0, 1] Yay!\n",
      "['0.01', '1.00', '0.99', '0.01'] [0, 1, 1, 0] [0, 1, 1, 0] Yay!\n",
      "['0.03', '0.97', '1.00', '1.00'] [0, 1, 1, 1] [0, 1, 1, 1] Yay!\n",
      "['0.91', '0.05', '0.00', '0.00'] [1, 0, 0, 0] [1, 0, 0, 0] Yay!\n",
      "['0.66', '0.02', '0.00', '0.99'] [1, 0, 0, 1] [1, 0, 0, 1] Yay!\n",
      "['1.00', '0.00', '1.00', '0.01'] [1, 0, 1, 0] [1, 0, 1, 0] Yay!\n",
      "['1.00', '0.00', '1.00', '1.00'] [1, 0, 1, 1] [1, 0, 1, 1] Yay!\n",
      "['0.99', '0.98', '0.04', '0.00'] [1, 1, 0, 0] [1, 1, 0, 0] Yay!\n",
      "['1.00', '1.00', '0.01', '1.00'] [1, 1, 0, 1] [1, 1, 0, 1] Yay!\n",
      "['1.00', '1.00', '0.99', '0.00'] [1, 1, 1, 0] [1, 1, 1, 0] Yay!\n",
      "['1.00', '1.00', '1.00', '0.99'] [1, 1, 1, 1] [1, 1, 1, 1] Yay!\n"
     ]
    }
   ],
   "source": [
    "pred = model.predict(inp)\n",
    "for co,i in enumerate(pred):\n",
    "    c=[]\n",
    "    for j in i:\n",
    "        if j>0.5: c.append(1)\n",
    "        else: c.append(0)\n",
    "    if c==out[co]: \n",
    "        st=\"Yay!\"\n",
    "    else:\n",
    "        st=\"Nay\"\n",
    "    print([\"{0:0.2f}\".format(n) for n in i], c, out[co], st)"
   ]
  },
  {
   "cell_type": "code",
   "execution_count": null,
   "metadata": {},
   "outputs": [],
   "source": []
  }
 ],
 "metadata": {
  "kernelspec": {
   "display_name": "Python 3",
   "language": "python",
   "name": "python3"
  },
  "language_info": {
   "codemirror_mode": {
    "name": "ipython",
    "version": 3
   },
   "file_extension": ".py",
   "mimetype": "text/x-python",
   "name": "python",
   "nbconvert_exporter": "python",
   "pygments_lexer": "ipython3",
   "version": "3.5.2"
  }
 },
 "nbformat": 4,
 "nbformat_minor": 2
}
